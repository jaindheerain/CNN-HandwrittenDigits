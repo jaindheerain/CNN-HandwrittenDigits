import pandas as pd

trainer = pd.read_csv('../input/train.csv')
ytrain = trainer['label']
del trainer['label']
xtrain = trainer

import tensorflow as tf
import numpy as np
import matplotlib.pyplot as plt

#One Hot Encoding of the original Output
one_hot = np.zeros([len(ytrain),10])
for i in range(len(ytrain)):
    one_hot[i,ytrain[i]] = 1

ytrain = one_hot

ytrain

array([[ 0.,  1.,  0., ...,  0.,  0.,  0.],
       [ 1.,  0.,  0., ...,  0.,  0.,  0.],
       [ 0.,  1.,  0., ...,  0.,  0.,  0.],
       ..., 
       [ 0.,  0.,  0., ...,  1.,  0.,  0.],
       [ 0.,  0.,  0., ...,  0.,  0.,  0.],
       [ 0.,  0.,  0., ...,  0.,  0.,  1.]])

def weights_(shape):
    return tf.Variable(tf.truncated_normal(shape = shape,stddev = 0.05))
def bias_(shape):
    return tf.Variable(tf.constant( 0.05 , shape = [shape]))

img_size = (28,28)
img_ = 28
num_class = 10
flat_img = 28 * 28
filter_size = 5
num_filter_1 = 16
num_filter_2 =16
num_channels = 1

def new_conv_layer(input,
                  num_input_channels,
                  filter_size,
                  num_filters,
                  use_pooling=True):
    shape = [filter_size,filter_size,num_input_channels,num_filters]
    weights = weights_(shape=shape)
    bias = bias_(num_filters)
    
    layer = tf.nn.conv2d(input = input,
                        filter = weights,
                        strides = [1,1,1,1],
                        padding = 'SAME')
    layer += bias
    layer = tf.nn.relu(layer)
    if use_pooling:
        layer = tf.nn.max_pool(value = layer,
                               ksize = [1,2,2,1],
                               strides = [1,2,2,1],
                               padding = 'SAME'
                              )
      
      
    return layer,weights
    
    
    
    
    
    
    

def fully_connected(input , num_inputs , num_output , use_sigmoid = True ):
    
    
    
    shape = [num_inputs,num_output]
    weights = weights_(shape=shape)
    bias   =  bias_(shape = num_output)
    
    layer = tf.matmul(input,weights) + bias
    layer = tf.nn.sigmoid(layer)
    
    return layer
    

    

 

x = tf.placeholder(tf.float32 , shape = [None , flat_img])

x_img = tf.reshape(x , [-1,img_,img_,num_channels])

y_true = tf.placeholder(tf.float32 , shape = [None , 10])

y_true_cls = tf.argmax(y_true , dimension = 1)

conv_layer_1 , weights = new_conv_layer(input = x_img,
                  num_input_channels = num_channels,
                  filter_size = filter_size,
                  num_filters = num_filter_1,
                  use_pooling=True)

conv_layer_2 , weights2 = new_conv_layer(input = conv_layer_1,
                  num_input_channels = num_filter_1,
                  filter_size = filter_size,
                  num_filters = num_filter_2,
                  use_pooling=True)

conv_layer_2

<tf.Tensor 'MaxPool_1:0' shape=(?, 7, 7, 16) dtype=float32>

 

 

a = conv_layer_2.get_shape()

a

TensorShape([Dimension(None), Dimension(7), Dimension(7), Dimension(16)])

num_features = np.array(a[1:4],dtype = int).prod()

num_features

784

temp = tf.reshape(conv_layer_2,[-1,num_features])

temp

<tf.Tensor 'Reshape_1:0' shape=(?, 784) dtype=float32>

fc_layer1 = fully_connected(input = temp ,
                            num_inputs = num_features ,
                            num_output = 1024 ,
                            use_sigmoid = True )

fc_layer1

<tf.Tensor 'Sigmoid:0' shape=(?, 1024) dtype=float32>

fc_layer2 = fully_connected(input = fc_layer1 ,
                            num_inputs = 1024 ,
                            num_output = 10 ,
                            use_sigmoid = True )

fc_layer2

<tf.Tensor 'Sigmoid_1:0' shape=(?, 10) dtype=float32>

y_pred = tf.nn.softmax(fc_layer2)
#dummy_print = tf.Print(y_pred)

y_pred_cls = tf.argmax(y_pred, dimension =1)
y_tester = tf.argmax(y_true_cls, dimension =1)

fc_layer2.shape

TensorShape([Dimension(None), Dimension(10)])

cross_entropy = tf.nn.softmax_cross_entropy_with_logits(logits = fc_layer2,
                                                         labels = y_true)

cost =tf.reduce_mean(cross_entropy)

optimizer = tf.train.AdamOptimizer(learning_rate = 1e-4).minimize(cost) 

correct_prediction = tf.equal(y_pred_cls , y_true_cls)
accuracy = tf.reduce_mean(tf.cast(correct_prediction,tf.float32))
##Read Again

session =  tf.Session() 
session.run(tf.initialize_all_variables())


train_batch_size = 50

from datetime import timedelta 
import time
total_iterations = 0
def optimize(num_iterations):
    global total_iterations
    ctr = 0
    start_time = time.time()
    for i in range(total_iterations,
                  total_iterations + num_iterations):
        x_train = xtrain[:ctr+train_batch_size]
        y_train = ytrain[:ctr+train_batch_size]
        ctr = ctr+train_batch_size
        
        feed_dict_train = {x:x_train,
                    y_true:y_train}
        session.run(optimizer,feed_dict= feed_dict_train)
        
        acc = session.run(accuracy, feed_dict = feed_dict_train)
        msg = "Optimization Iteration: {0:>6} , Trainning Accuracy:{1:>6} "
        print(msg.format(i + 1 , acc))
        end_time = time.time()
        time_dif = end_time - start_time
        print("Time usage: " + str(timedelta(seconds =int(round(time_dif)))))

optimize(num_iterations = 50)
    
    

Optimization Iteration:      1 , Trainning Accuracy:0.1599999964237213 
Time usage: 0:00:00
Optimization Iteration:      2 , Trainning Accuracy:0.20000000298023224 
Time usage: 0:00:01
Optimization Iteration:      3 , Trainning Accuracy:0.18000000715255737 
Time usage: 0:00:02
Optimization Iteration:      4 , Trainning Accuracy:0.19499999284744263 
Time usage: 0:00:03
Optimization Iteration:      5 , Trainning Accuracy:0.20000000298023224 
Time usage: 0:00:04
Optimization Iteration:      6 , Trainning Accuracy:0.22333332896232605 
Time usage: 0:00:06
Optimization Iteration:      7 , Trainning Accuracy:0.22857142984867096 
Time usage: 0:00:08
Optimization Iteration:      8 , Trainning Accuracy:0.26499998569488525 
Time usage: 0:00:10
Optimization Iteration:      9 , Trainning Accuracy:0.3444444537162781 
Time usage: 0:00:12
Optimization Iteration:     10 , Trainning Accuracy:0.4180000126361847 
Time usage: 0:00:14
Optimization Iteration:     11 , Trainning Accuracy:0.47090908885002136 
Time usage: 0:00:16
Optimization Iteration:     12 , Trainning Accuracy:0.5266666412353516 
Time usage: 0:00:18
Optimization Iteration:     13 , Trainning Accuracy:0.563076913356781 
Time usage: 0:00:21
Optimization Iteration:     14 , Trainning Accuracy:0.5857142806053162 
Time usage: 0:00:23
Optimization Iteration:     15 , Trainning Accuracy:0.6320000290870667 
Time usage: 0:00:26
Optimization Iteration:     16 , Trainning Accuracy:0.6600000262260437 
Time usage: 0:00:29
Optimization Iteration:     17 , Trainning Accuracy:0.6788235306739807 
Time usage: 0:00:32
Optimization Iteration:     18 , Trainning Accuracy:0.7066666483879089 
Time usage: 0:00:35
Optimization Iteration:     19 , Trainning Accuracy:0.714736819267273 
Time usage: 0:00:38
Optimization Iteration:     20 , Trainning Accuracy:0.7260000109672546 
Time usage: 0:00:42
Optimization Iteration:     21 , Trainning Accuracy:0.7419047355651855 
Time usage: 0:00:46
Optimization Iteration:     22 , Trainning Accuracy:0.7490909099578857 
Time usage: 0:00:50
Optimization Iteration:     23 , Trainning Accuracy:0.7660869359970093 
Time usage: 0:00:54
Optimization Iteration:     24 , Trainning Accuracy:0.7833333611488342 
Time usage: 0:00:58
Optimization Iteration:     25 , Trainning Accuracy:0.7856000065803528 
Time usage: 0:01:03
Optimization Iteration:     26 , Trainning Accuracy:0.7884615659713745 
Time usage: 0:01:07
Optimization Iteration:     27 , Trainning Accuracy:0.7992592453956604 
Time usage: 0:01:12
Optimization Iteration:     28 , Trainning Accuracy:0.8042857050895691 
Time usage: 0:01:17
Optimization Iteration:     29 , Trainning Accuracy:0.8075861930847168 
Time usage: 0:01:21
Optimization Iteration:     30 , Trainning Accuracy:0.8206666707992554 
Time usage: 0:01:27
Optimization Iteration:     31 , Trainning Accuracy:0.8258064389228821 
Time usage: 0:01:32
Optimization Iteration:     32 , Trainning Accuracy:0.8268749713897705 
Time usage: 0:01:37
Optimization Iteration:     33 , Trainning Accuracy:0.8333333134651184 
Time usage: 0:01:43
Optimization Iteration:     34 , Trainning Accuracy:0.8382353186607361 
Time usage: 0:01:48
Optimization Iteration:     35 , Trainning Accuracy:0.8411428332328796 
Time usage: 0:01:54
Optimization Iteration:     36 , Trainning Accuracy:0.8372222185134888 
Time usage: 0:02:00
Optimization Iteration:     37 , Trainning Accuracy:0.8372973203659058 
Time usage: 0:02:06
Optimization Iteration:     38 , Trainning Accuracy:0.8405263423919678 
Time usage: 0:02:13
Optimization Iteration:     39 , Trainning Accuracy:0.8441025614738464 
Time usage: 0:02:19
Optimization Iteration:     40 , Trainning Accuracy:0.8450000286102295 
Time usage: 0:02:25
Optimization Iteration:     41 , Trainning Accuracy:0.8492683172225952 
Time usage: 0:02:32
Optimization Iteration:     42 , Trainning Accuracy:0.8523809313774109 
Time usage: 0:02:39
Optimization Iteration:     43 , Trainning Accuracy:0.8558139801025391 
Time usage: 0:02:46
Optimization Iteration:     44 , Trainning Accuracy:0.8613636493682861 
Time usage: 0:02:53
Optimization Iteration:     45 , Trainning Accuracy:0.8635555505752563 
Time usage: 0:03:00
Optimization Iteration:     46 , Trainning Accuracy:0.8660869598388672 
Time usage: 0:03:07
Optimization Iteration:     47 , Trainning Accuracy:0.8676595687866211 
Time usage: 0:03:15
Optimization Iteration:     48 , Trainning Accuracy:0.8691666722297668 
Time usage: 0:03:23
Optimization Iteration:     49 , Trainning Accuracy:0.8697959184646606 
Time usage: 0:03:31
Optimization Iteration:     50 , Trainning Accuracy:0.8712000250816345 
Time usage: 0:03:39


xtest = xtrain[40000:]
ytest = ytrain[40000:]

xtest.reset_index(drop = True,inplace = True)

 

 

test_batch_size = 50
total_iterations = 0
def optimize_test(num,print_false = True):
    global total_iterations
    ctr = 0
    start_time = time.time()
    for i in range(total_iterations,
                  total_iterations+num):
        x_test = xtest[ctr:ctr+test_batch_size]
        y_test= ytest[ctr:ctr+test_batch_size]
        ctr = ctr+test_batch_size
        
        feed_dict_test = {x:x_test,
                    y_true:y_test}
        session.run(optimizer,feed_dict= feed_dict_test)
        acc = session.run(accuracy, feed_dict = feed_dict_test)
        msg = "Optimization Iteration: {0:>6} , Trainning Accuracy:{1:>6} "
        print(msg.format(i + 1 , acc))
        print(session.run(y_pred_cls,feed_dict = feed_dict_test) == session.run(y_true_cls,feed_dict = feed_dict_test))
            
        end_time = time.time()
        time_dif = end_time - start_time
        print("Time usage: " + str(timedelta(seconds =int(round(time_dif)))))

optimize_test(100)

Optimization Iteration:      1 , Trainning Accuracy:0.8199999928474426 
[ True  True False  True  True  True  True  True  True  True  True False
  True False  True  True  True  True  True  True  True  True False  True
  True  True False  True  True  True  True False  True  True  True  True
  True False  True  True  True False False  True  True  True  True  True
  True  True]
Time usage: 0:00:00
Optimization Iteration:      2 , Trainning Accuracy:0.8399999737739563 
[False  True  True  True  True  True False  True  True  True  True  True
  True  True  True  True  True  True  True  True False False  True False
  True  True  True  True  True False  True  True  True  True  True  True
  True  True  True  True False  True  True  True  True  True False  True
  True  True]
Time usage: 0:00:00
Optimization Iteration:      3 , Trainning Accuracy:0.8600000143051147 
[ True  True  True  True False  True  True  True  True  True  True  True
  True False False  True  True  True  True  True  True  True  True  True
  True  True  True False  True  True  True  True  True  True  True  True
  True False  True False  True  True  True  True  True  True  True  True
  True False]
Time usage: 0:00:01
Optimization Iteration:      4 , Trainning Accuracy:0.9399999976158142 
[ True  True  True  True  True  True  True False  True  True  True  True
  True  True  True  True  True  True  True  True  True  True  True  True
  True  True  True  True  True  True  True  True False  True  True  True
  True  True  True  True  True False  True  True  True  True  True  True
  True  True]
Time usage: 0:00:01
Optimization Iteration:      5 , Trainning Accuracy:0.8399999737739563 
[False  True False  True  True  True  True  True  True  True  True  True
  True  True  True  True  True  True  True  True False  True False False
  True False  True  True  True  True  True  True  True  True  True  True
  True  True False  True  True False  True  True  True  True  True  True
  True  True]
Time usage: 0:00:01
Optimization Iteration:      6 , Trainning Accuracy:0.9399999976158142 
[ True False  True  True  True  True  True  True  True  True  True  True
  True  True False  True  True False  True  True  True  True  True  True
  True  True  True  True  True  True  True  True  True  True  True  True
  True  True  True  True  True  True  True  True  True  True  True  True
  True  True]
Time usage: 0:00:01
Optimization Iteration:      7 , Trainning Accuracy:0.800000011920929 
[ True False  True  True  True  True  True False  True  True  True  True
  True False  True  True  True  True  True  True  True  True  True  True
  True False False  True False False  True  True False  True  True  True
 False  True  True False  True  True  True  True  True  True  True  True
  True  True]
Time usage: 0:00:01
Optimization Iteration:      8 , Trainning Accuracy:0.8600000143051147 
[ True  True  True  True False False  True  True False  True  True  True
  True  True  True  True  True  True False  True  True  True  True  True
 False  True  True  True  True  True  True  True  True  True  True  True
  True False  True  True  True  True  True False  True  True  True  True
  True  True]
Time usage: 0:00:02
Optimization Iteration:      9 , Trainning Accuracy:0.8799999952316284 
[False  True  True  True  True  True  True  True  True  True False  True
  True  True  True  True  True  True  True  True  True  True  True  True
  True False  True  True False  True  True  True  True  True  True  True
  True  True  True  True  True False  True False  True  True  True  True
  True  True]
Time usage: 0:00:02
Optimization Iteration:     10 , Trainning Accuracy:0.8799999952316284 
[ True  True  True  True  True  True  True  True  True  True False  True
  True  True  True False  True  True  True  True  True  True  True False
  True  True False False  True  True  True  True  True  True False  True
  True  True  True  True  True  True  True  True  True  True  True  True
  True  True]
Time usage: 0:00:02
Optimization Iteration:     11 , Trainning Accuracy:0.8399999737739563 
[False  True  True  True  True False  True  True  True  True False  True
  True False  True  True  True  True  True False  True  True  True  True
  True  True  True  True False  True  True  True  True  True  True  True
 False False  True  True  True  True  True  True  True  True  True  True
  True  True]
Time usage: 0:00:02
Optimization Iteration:     12 , Trainning Accuracy:0.8600000143051147 
[ True  True  True  True  True  True  True  True  True False  True  True
  True  True  True  True  True  True  True False  True  True  True  True
  True  True  True False  True  True  True  True  True False  True  True
 False  True  True  True  True  True  True False False  True  True  True
  True  True]
Time usage: 0:00:02
Optimization Iteration:     13 , Trainning Accuracy:0.8399999737739563 
[ True  True  True  True  True  True  True  True  True False  True  True
  True  True  True  True  True  True  True  True  True  True False False
 False  True  True  True  True  True  True False  True  True  True  True
  True False  True  True  True  True  True  True False  True  True  True
 False  True]
Time usage: 0:00:03
Optimization Iteration:     14 , Trainning Accuracy:0.8799999952316284 
[ True  True  True  True  True  True False  True  True  True  True  True
 False False  True  True  True  True  True  True False False  True  True
  True  True  True  True False  True  True  True  True  True  True  True
  True  True  True  True  True  True  True  True  True  True  True  True
  True  True]
Time usage: 0:00:03
Optimization Iteration:     15 , Trainning Accuracy:0.8399999737739563 
[ True  True  True False  True  True  True False  True False  True  True
 False False  True  True  True  True  True  True  True  True  True  True
  True  True  True  True  True  True False  True  True False  True  True
  True  True  True  True  True  True  True  True  True  True  True  True
  True False]
Time usage: 0:00:03
Optimization Iteration:     16 , Trainning Accuracy:0.8199999928474426 
[ True  True  True  True  True  True  True False  True  True  True  True
  True  True  True  True  True  True  True  True False  True  True  True
  True False False  True  True False  True  True  True False False  True
  True  True  True False  True  True  True  True  True  True False  True
  True  True]
Time usage: 0:00:03
Optimization Iteration:     17 , Trainning Accuracy:0.8999999761581421 
[ True  True  True False  True  True  True  True  True  True  True  True
  True  True  True False  True  True  True  True  True  True  True  True
  True  True  True False  True False  True  True  True  True  True  True
  True False  True  True  True  True  True  True  True  True  True  True
  True  True]
Time usage: 0:00:03
Optimization Iteration:     18 , Trainning Accuracy:0.8399999737739563 
[ True  True  True  True  True  True  True  True  True  True False  True
  True False  True False  True  True False  True  True  True  True  True
  True  True  True False  True  True  True  True  True  True  True  True
  True  True  True  True  True  True  True False False  True  True  True
 False  True]
Time usage: 0:00:04
Optimization Iteration:     19 , Trainning Accuracy:0.8399999737739563 
[False  True  True  True  True  True  True False  True False  True  True
  True  True  True  True  True  True  True  True False  True  True  True
  True  True  True  True  True  True  True  True  True  True False False
 False  True  True False  True  True  True  True  True  True  True  True
  True  True]
Time usage: 0:00:04
Optimization Iteration:     20 , Trainning Accuracy:0.9399999976158142 
[ True  True  True  True  True  True  True False  True  True  True  True
  True  True  True  True  True  True False  True  True  True  True False
  True  True  True  True  True  True  True  True  True  True  True  True
  True  True  True  True  True  True  True  True  True  True  True  True
  True  True]
Time usage: 0:00:04
Optimization Iteration:     21 , Trainning Accuracy:0.8600000143051147 
[ True  True  True False  True  True  True  True  True  True  True  True
  True  True  True  True  True  True False  True  True  True False  True
  True  True  True  True  True  True False  True  True  True  True  True
  True  True  True  True False  True  True  True  True  True  True False
 False  True]
Time usage: 0:00:04
Optimization Iteration:     22 , Trainning Accuracy:0.8999999761581421 
[ True  True  True  True  True  True  True  True  True  True  True False
  True  True  True  True  True False False  True  True  True  True False
  True  True  True  True  True False  True  True  True  True  True  True
  True  True  True  True  True  True  True  True  True  True  True  True
  True  True]
Time usage: 0:00:04
Optimization Iteration:     23 , Trainning Accuracy:0.9399999976158142 
[ True  True  True  True  True  True  True  True  True  True  True  True
  True  True  True  True  True  True  True  True  True  True  True False
  True  True  True  True  True  True  True  True  True  True  True  True
  True  True  True  True  True  True  True  True  True  True  True False
  True False]
Time usage: 0:00:04
Optimization Iteration:     24 , Trainning Accuracy:0.8600000143051147 
[ True  True  True False  True  True  True  True  True False  True  True
  True  True  True  True  True  True  True  True  True  True  True  True
  True  True  True  True  True False  True  True False  True  True  True
  True  True  True False  True  True  True  True False  True  True  True
 False  True]
Time usage: 0:00:05
Optimization Iteration:     25 , Trainning Accuracy:0.8199999928474426 
[ True  True  True  True False  True False  True  True  True  True False
  True  True  True  True  True  True  True  True  True False  True  True
 False  True  True  True  True False  True  True  True False  True  True
  True  True False  True  True False  True  True  True  True  True  True
  True  True]
Time usage: 0:00:05
Optimization Iteration:     26 , Trainning Accuracy:0.7799999713897705 
[ True  True  True  True  True  True  True  True  True False  True  True
  True  True  True  True  True  True  True  True  True  True  True  True
 False  True False False False False  True  True  True False  True False
 False  True  True  True  True  True  True  True False  True  True  True
  True False]
Time usage: 0:00:05
Optimization Iteration:     27 , Trainning Accuracy:0.8999999761581421 
[False False  True  True  True  True  True  True  True  True  True  True
  True  True  True  True False  True  True  True  True  True  True  True
  True  True  True  True  True  True  True  True  True  True  True  True
  True False  True  True  True  True  True  True  True  True  True False
  True  True]
Time usage: 0:00:05
Optimization Iteration:     28 , Trainning Accuracy:0.8600000143051147 
[ True  True False  True False  True  True  True  True  True  True  True
 False  True  True  True  True  True  True  True  True  True  True  True
  True  True  True  True False  True  True  True  True  True  True False
  True  True  True  True  True  True  True  True  True  True  True False
 False  True]
Time usage: 0:00:06
Optimization Iteration:     29 , Trainning Accuracy:0.8399999737739563 
[ True  True  True False  True  True  True  True  True  True  True  True
  True  True  True  True  True  True  True  True False  True  True  True
 False  True  True  True  True  True  True  True  True  True  True False
  True False  True  True False  True  True  True  True  True  True  True
 False False]
Time usage: 0:00:06
Optimization Iteration:     30 , Trainning Accuracy:0.8799999952316284 
[ True  True  True  True False False  True  True  True  True False False
  True  True  True  True  True  True  True  True  True  True  True  True
  True  True  True  True  True  True  True  True  True  True  True  True
  True  True  True  True  True  True False  True False  True  True  True
  True  True]
Time usage: 0:00:06
Optimization Iteration:     31 , Trainning Accuracy:0.8600000143051147 
[False  True  True  True  True  True  True  True  True  True  True  True
  True  True  True  True False  True  True  True  True  True  True  True
  True  True False  True False  True  True  True  True  True  True  True
  True  True False  True  True False False  True  True  True  True  True
  True  True]
Time usage: 0:00:06
Optimization Iteration:     32 , Trainning Accuracy:0.8999999761581421 
[ True  True  True  True  True  True  True  True  True  True  True  True
  True  True  True  True  True  True  True  True  True  True  True  True
 False  True False  True  True  True  True  True False  True  True  True
  True  True  True False  True  True  True  True False  True  True  True
  True  True]
Time usage: 0:00:06
Optimization Iteration:     33 , Trainning Accuracy:0.9200000166893005 
[False  True  True  True  True  True  True  True  True  True  True  True
  True  True  True  True  True  True  True  True  True  True False  True
  True  True  True  True  True  True  True  True  True  True  True  True
  True  True  True  True False  True  True  True False  True  True  True
  True  True]
Time usage: 0:00:06
Optimization Iteration:     34 , Trainning Accuracy:0.9200000166893005 
[ True  True  True  True  True  True  True  True False  True False  True
  True False  True  True  True  True  True  True  True  True  True  True
  True  True  True  True  True  True  True  True  True  True  True  True
  True  True  True  True  True False  True  True  True  True  True  True
  True  True]
Time usage: 0:00:07
Optimization Iteration:     35 , Trainning Accuracy:0.9599999785423279 
[ True  True  True  True  True  True  True  True  True  True  True  True
  True  True  True  True  True  True  True  True  True  True  True  True
  True  True  True  True  True  True  True  True  True  True  True False
  True  True False  True  True  True  True  True  True  True  True  True
  True  True]
Time usage: 0:00:07
Optimization Iteration:     36 , Trainning Accuracy:0.8799999952316284 
[ True  True False False  True  True  True  True  True  True  True False
  True  True  True False  True  True  True  True  True  True  True  True
  True  True  True  True  True  True  True False  True  True  True  True
  True  True  True  True  True  True False  True  True  True  True  True
  True  True]
Time usage: 0:00:07
Optimization Iteration:     37 , Trainning Accuracy:0.8999999761581421 
[ True  True  True  True  True  True  True  True False  True  True  True
  True  True  True  True False  True  True  True  True  True  True  True
  True  True  True  True  True  True  True  True  True False  True  True
  True  True False  True  True  True  True  True  True  True  True False
  True  True]
Time usage: 0:00:07
Optimization Iteration:     38 , Trainning Accuracy:0.8999999761581421 
[ True  True  True  True  True  True  True  True  True  True  True  True
  True  True  True  True  True  True  True  True False  True  True  True
  True  True  True False  True  True  True  True  True  True False  True
  True  True  True  True  True  True False  True False  True  True  True
  True  True]
Time usage: 0:00:08
Optimization Iteration:     39 , Trainning Accuracy:0.8799999952316284 
[ True  True  True  True  True False  True  True  True  True  True  True
  True  True  True  True  True  True  True  True  True  True  True False
  True  True  True  True  True  True  True  True  True  True  True False
  True  True  True  True  True  True False False  True  True  True False
  True  True]
Time usage: 0:00:08
Optimization Iteration:     40 , Trainning Accuracy:0.9399999976158142 
[ True  True  True  True  True  True  True  True  True  True  True  True
  True  True  True  True  True  True  True  True  True  True  True  True
  True  True  True  True  True  True  True  True  True  True False  True
  True False  True  True  True  True False  True  True  True  True  True
  True  True]
Time usage: 0:00:08
Optimization Iteration:     41 , Trainning Accuracy:   nan 
[]
Time usage: 0:00:08
Optimization Iteration:     42 , Trainning Accuracy:   nan 
[]
Time usage: 0:00:08
Optimization Iteration:     43 , Trainning Accuracy:   nan 
[]
Time usage: 0:00:08
Optimization Iteration:     44 , Trainning Accuracy:   nan 
[]
Time usage: 0:00:08
Optimization Iteration:     45 , Trainning Accuracy:   nan 
[]
Time usage: 0:00:08
Optimization Iteration:     46 , Trainning Accuracy:   nan 
[]
Time usage: 0:00:08
Optimization Iteration:     47 , Trainning Accuracy:   nan 
[]
Time usage: 0:00:08
Optimization Iteration:     48 , Trainning Accuracy:   nan 
[]
Time usage: 0:00:08
Optimization Iteration:     49 , Trainning Accuracy:   nan 
[]
Time usage: 0:00:08
Optimization Iteration:     50 , Trainning Accuracy:   nan 
[]
Time usage: 0:00:08
Optimization Iteration:     51 , Trainning Accuracy:   nan 
[]
Time usage: 0:00:08
Optimization Iteration:     52 , Trainning Accuracy:   nan 
[]
Time usage: 0:00:08
Optimization Iteration:     53 , Trainning Accuracy:   nan 
[]
Time usage: 0:00:08
Optimization Iteration:     54 , Trainning Accuracy:   nan 
[]
Time usage: 0:00:08
Optimization Iteration:     55 , Trainning Accuracy:   nan 
[]
Time usage: 0:00:08
Optimization Iteration:     56 , Trainning Accuracy:   nan 
[]
Time usage: 0:00:08
Optimization Iteration:     57 , Trainning Accuracy:   nan 
[]
Time usage: 0:00:08
Optimization Iteration:     58 , Trainning Accuracy:   nan 
[]
Time usage: 0:00:08
Optimization Iteration:     59 , Trainning Accuracy:   nan 
[]
Time usage: 0:00:08
Optimization Iteration:     60 , Trainning Accuracy:   nan 
[]
Time usage: 0:00:08
Optimization Iteration:     61 , Trainning Accuracy:   nan 
[]
Time usage: 0:00:08
Optimization Iteration:     62 , Trainning Accuracy:   nan 
[]
Time usage: 0:00:08
Optimization Iteration:     63 , Trainning Accuracy:   nan 
[]
Time usage: 0:00:08
Optimization Iteration:     64 , Trainning Accuracy:   nan 
[]
Time usage: 0:00:08
Optimization Iteration:     65 , Trainning Accuracy:   nan 
[]
Time usage: 0:00:08
Optimization Iteration:     66 , Trainning Accuracy:   nan 
[]
Time usage: 0:00:08
Optimization Iteration:     67 , Trainning Accuracy:   nan 
[]
Time usage: 0:00:08
Optimization Iteration:     68 , Trainning Accuracy:   nan 
[]
Time usage: 0:00:08
Optimization Iteration:     69 , Trainning Accuracy:   nan 
[]
Time usage: 0:00:08
Optimization Iteration:     70 , Trainning Accuracy:   nan 
[]
Time usage: 0:00:08
Optimization Iteration:     71 , Trainning Accuracy:   nan 
[]
Time usage: 0:00:08
Optimization Iteration:     72 , Trainning Accuracy:   nan 
[]
Time usage: 0:00:08
Optimization Iteration:     73 , Trainning Accuracy:   nan 
[]
Time usage: 0:00:08
Optimization Iteration:     74 , Trainning Accuracy:   nan 
[]
Time usage: 0:00:08
Optimization Iteration:     75 , Trainning Accuracy:   nan 
[]
Time usage: 0:00:08
Optimization Iteration:     76 , Trainning Accuracy:   nan 
[]
Time usage: 0:00:08
Optimization Iteration:     77 , Trainning Accuracy:   nan 
[]
Time usage: 0:00:08
Optimization Iteration:     78 , Trainning Accuracy:   nan 
[]
Time usage: 0:00:08
Optimization Iteration:     79 , Trainning Accuracy:   nan 
[]
Time usage: 0:00:08
Optimization Iteration:     80 , Trainning Accuracy:   nan 
[]
Time usage: 0:00:08
Optimization Iteration:     81 , Trainning Accuracy:   nan 
[]
Time usage: 0:00:08
Optimization Iteration:     82 , Trainning Accuracy:   nan 
[]
Time usage: 0:00:08
Optimization Iteration:     83 , Trainning Accuracy:   nan 
[]
Time usage: 0:00:08
Optimization Iteration:     84 , Trainning Accuracy:   nan 
[]
Time usage: 0:00:08
Optimization Iteration:     85 , Trainning Accuracy:   nan 
[]
Time usage: 0:00:08
Optimization Iteration:     86 , Trainning Accuracy:   nan 
[]
Time usage: 0:00:08
Optimization Iteration:     87 , Trainning Accuracy:   nan 
[]
Time usage: 0:00:08
Optimization Iteration:     88 , Trainning Accuracy:   nan 
[]
Time usage: 0:00:08
Optimization Iteration:     89 , Trainning Accuracy:   nan 
[]
Time usage: 0:00:08
Optimization Iteration:     90 , Trainning Accuracy:   nan 
[]
Time usage: 0:00:08
Optimization Iteration:     91 , Trainning Accuracy:   nan 
[]
Time usage: 0:00:08
Optimization Iteration:     92 , Trainning Accuracy:   nan 
[]
Time usage: 0:00:08
Optimization Iteration:     93 , Trainning Accuracy:   nan 
[]
Time usage: 0:00:08
Optimization Iteration:     94 , Trainning Accuracy:   nan 
[]
Time usage: 0:00:08
Optimization Iteration:     95 , Trainning Accuracy:   nan 
[]
Time usage: 0:00:08
Optimization Iteration:     96 , Trainning Accuracy:   nan 
[]
Time usage: 0:00:08
Optimization Iteration:     97 , Trainning Accuracy:   nan 
[]
Time usage: 0:00:08
O

ptimization Iteration:     98 , Trainning Accuracy:   nan 
[]
Time usage: 0:00:08
Optimization Iteration:     99 , Trainning Accuracy:   nan 
[]
Time usage: 0:00:08
Optimization Iteration:    100 , Trainning Accuracy:   nan 
[]
Time usage: 0:00:09

 

 

 

 

 

 


